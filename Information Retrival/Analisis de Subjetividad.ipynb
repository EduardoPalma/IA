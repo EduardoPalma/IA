{
  "nbformat": 4,
  "nbformat_minor": 0,
  "metadata": {
    "colab": {
      "provenance": [],
      "gpuType": "T4"
    },
    "kernelspec": {
      "name": "python3",
      "display_name": "Python 3"
    },
    "language_info": {
      "name": "python"
    },
    "accelerator": "GPU"
  },
  "cells": [
    {
      "cell_type": "markdown",
      "source": [
        "## Proyecto para clasificar la subjetividad de un texto\n",
        "\n",
        "Se extraen textos con la categoria correspondientes de objetividad y subjetividad, **objetivo 1 subjetivo 0**\n",
        ", donde en total son 20000 datos de estos, traduccidos de 2 fuentes distintas, que son referenciados de las siguientes fuentes.\n",
        "\n",
        "\n",
        "1.   \"https://paperswithcode-com.translate.goog/dataset/czech-subjectivity-dataset?_x_tr_sl=en&_x_tr_tl=es&_x_tr_hl=es-419\"\n",
        "2.   \"https://www.cs.cornell.edu/people/pabo/movie-review-data/\"\n",
        "\n",
        "\n",
        "se utilizo traductor para trasladarlo al lenguaje español. trambien agregar que se utilizo software de terceros para la traduccion, especificamente de la siguiente pagina.\n",
        "\n",
        "\n",
        "\n",
        "*   https://www.onlinedoctranslator.com/es/translationform\n",
        "\n",
        "Agradecimientos a los creados de estas fuentes y software que facilitaron el proceso obtencion y transformacion."
      ],
      "metadata": {
        "id": "C7kEl6V-9TJJ"
      }
    },
    {
      "cell_type": "code",
      "execution_count": null,
      "metadata": {
        "id": "fR1xqjvPlhJz"
      },
      "outputs": [],
      "source": [
        "import pandas as pd"
      ]
    },
    {
      "cell_type": "code",
      "source": [
        "data = pd.read_csv('datos.csv',header=0)\n",
        "print(data.head())"
      ],
      "metadata": {
        "colab": {
          "base_uri": "https://localhost:8080/"
        },
        "id": "meMkjTpOnF11",
        "outputId": "2c3806f3-8c78-4ada-960c-8d2cb1184d15"
      },
      "execution_count": null,
      "outputs": [
        {
          "output_type": "stream",
          "name": "stdout",
          "text": [
            "   Id                                              Texto  label Categoría\n",
            "0   0  La película comienza en el pasado, donde un jo...      1  objetivo\n",
            "1   1  emergiendo de la psique humana y mostrando car...      1  objetivo\n",
            "2   2  despreciando la insistencia de su madre de que...      1  objetivo\n",
            "3   3  amitabh no puede creer la junta directiva y su...      1  objetivo\n",
            "4   4  ella, entre otras excentricidades, habla con u...      1  objetivo\n"
          ]
        }
      ]
    },
    {
      "cell_type": "markdown",
      "source": [
        "# Normalizacion de datos\n",
        "\n",
        "se importa nltk y regex para la normalizacion ya sea para \"**stopwords**\", \"**lematizacion**\", y \"**stemming**\" y se descargar los corpus para cada caso."
      ],
      "metadata": {
        "id": "Uo1yFOsW_LkF"
      }
    },
    {
      "cell_type": "code",
      "source": [
        "!pip install unidecode\n",
        "!pip install --upgrade tensorflow tensorboard\n",
        "%load_ext tensorboard\n",
        "!rm -rf ./logs/"
      ],
      "metadata": {
        "id": "wF9uRLhkA-mH",
        "colab": {
          "base_uri": "https://localhost:8080/"
        },
        "outputId": "20a230e9-f755-49e4-a963-78af8664c830"
      },
      "execution_count": null,
      "outputs": [
        {
          "output_type": "stream",
          "name": "stdout",
          "text": [
            "Looking in indexes: https://pypi.org/simple, https://us-python.pkg.dev/colab-wheels/public/simple/\n",
            "Collecting unidecode\n",
            "  Downloading Unidecode-1.3.6-py3-none-any.whl (235 kB)\n",
            "\u001b[?25l     \u001b[90m━━━━━━━━━━━━━━━━━━━━━━━━━━━━━━━━━━━━━━━━\u001b[0m \u001b[32m0.0/235.9 kB\u001b[0m \u001b[31m?\u001b[0m eta \u001b[36m-:--:--\u001b[0m\r\u001b[2K     \u001b[91m━━━━━━━━━━━━━━━━━━━━━━━━━━━━━━━━━━━━━━\u001b[0m\u001b[91m╸\u001b[0m \u001b[32m235.5/235.9 kB\u001b[0m \u001b[31m8.4 MB/s\u001b[0m eta \u001b[36m0:00:01\u001b[0m\r\u001b[2K     \u001b[90m━━━━━━━━━━━━━━━━━━━━━━━━━━━━━━━━━━━━━━━\u001b[0m \u001b[32m235.9/235.9 kB\u001b[0m \u001b[31m6.4 MB/s\u001b[0m eta \u001b[36m0:00:00\u001b[0m\n",
            "\u001b[?25hInstalling collected packages: unidecode\n",
            "Successfully installed unidecode-1.3.6\n",
            "Looking in indexes: https://pypi.org/simple, https://us-python.pkg.dev/colab-wheels/public/simple/\n",
            "Requirement already satisfied: tensorflow in /usr/local/lib/python3.10/dist-packages (2.12.0)\n",
            "Requirement already satisfied: tensorboard in /usr/local/lib/python3.10/dist-packages (2.12.3)\n",
            "Collecting tensorboard\n",
            "  Downloading tensorboard-2.13.0-py3-none-any.whl (5.6 MB)\n",
            "\u001b[2K     \u001b[90m━━━━━━━━━━━━━━━━━━━━━━━━━━━━━━━━━━━━━━━━\u001b[0m \u001b[32m5.6/5.6 MB\u001b[0m \u001b[31m53.9 MB/s\u001b[0m eta \u001b[36m0:00:00\u001b[0m\n",
            "\u001b[?25hRequirement already satisfied: absl-py>=1.0.0 in /usr/local/lib/python3.10/dist-packages (from tensorflow) (1.4.0)\n",
            "Requirement already satisfied: astunparse>=1.6.0 in /usr/local/lib/python3.10/dist-packages (from tensorflow) (1.6.3)\n",
            "Requirement already satisfied: flatbuffers>=2.0 in /usr/local/lib/python3.10/dist-packages (from tensorflow) (23.5.26)\n",
            "Requirement already satisfied: gast<=0.4.0,>=0.2.1 in /usr/local/lib/python3.10/dist-packages (from tensorflow) (0.4.0)\n",
            "Requirement already satisfied: google-pasta>=0.1.1 in /usr/local/lib/python3.10/dist-packages (from tensorflow) (0.2.0)\n",
            "Requirement already satisfied: grpcio<2.0,>=1.24.3 in /usr/local/lib/python3.10/dist-packages (from tensorflow) (1.56.0)\n",
            "Requirement already satisfied: h5py>=2.9.0 in /usr/local/lib/python3.10/dist-packages (from tensorflow) (3.8.0)\n",
            "Requirement already satisfied: jax>=0.3.15 in /usr/local/lib/python3.10/dist-packages (from tensorflow) (0.4.10)\n",
            "Requirement already satisfied: keras<2.13,>=2.12.0 in /usr/local/lib/python3.10/dist-packages (from tensorflow) (2.12.0)\n",
            "Requirement already satisfied: libclang>=13.0.0 in /usr/local/lib/python3.10/dist-packages (from tensorflow) (16.0.0)\n",
            "Requirement already satisfied: numpy<1.24,>=1.22 in /usr/local/lib/python3.10/dist-packages (from tensorflow) (1.22.4)\n",
            "Requirement already satisfied: opt-einsum>=2.3.2 in /usr/local/lib/python3.10/dist-packages (from tensorflow) (3.3.0)\n",
            "Requirement already satisfied: packaging in /usr/local/lib/python3.10/dist-packages (from tensorflow) (23.1)\n",
            "Requirement already satisfied: protobuf!=4.21.0,!=4.21.1,!=4.21.2,!=4.21.3,!=4.21.4,!=4.21.5,<5.0.0dev,>=3.20.3 in /usr/local/lib/python3.10/dist-packages (from tensorflow) (3.20.3)\n",
            "Requirement already satisfied: setuptools in /usr/local/lib/python3.10/dist-packages (from tensorflow) (67.7.2)\n",
            "Requirement already satisfied: six>=1.12.0 in /usr/local/lib/python3.10/dist-packages (from tensorflow) (1.16.0)\n",
            "Requirement already satisfied: tensorflow-estimator<2.13,>=2.12.0 in /usr/local/lib/python3.10/dist-packages (from tensorflow) (2.12.0)\n",
            "Requirement already satisfied: termcolor>=1.1.0 in /usr/local/lib/python3.10/dist-packages (from tensorflow) (2.3.0)\n",
            "Requirement already satisfied: typing-extensions>=3.6.6 in /usr/local/lib/python3.10/dist-packages (from tensorflow) (4.6.3)\n",
            "Requirement already satisfied: wrapt<1.15,>=1.11.0 in /usr/local/lib/python3.10/dist-packages (from tensorflow) (1.14.1)\n",
            "Requirement already satisfied: tensorflow-io-gcs-filesystem>=0.23.1 in /usr/local/lib/python3.10/dist-packages (from tensorflow) (0.32.0)\n",
            "Requirement already satisfied: google-auth<3,>=1.6.3 in /usr/local/lib/python3.10/dist-packages (from tensorboard) (2.17.3)\n",
            "Requirement already satisfied: google-auth-oauthlib<1.1,>=0.5 in /usr/local/lib/python3.10/dist-packages (from tensorboard) (1.0.0)\n",
            "Requirement already satisfied: markdown>=2.6.8 in /usr/local/lib/python3.10/dist-packages (from tensorboard) (3.4.3)\n",
            "Requirement already satisfied: requests<3,>=2.21.0 in /usr/local/lib/python3.10/dist-packages (from tensorboard) (2.27.1)\n",
            "Requirement already satisfied: tensorboard-data-server<0.8.0,>=0.7.0 in /usr/local/lib/python3.10/dist-packages (from tensorboard) (0.7.1)\n",
            "Requirement already satisfied: werkzeug>=1.0.1 in /usr/local/lib/python3.10/dist-packages (from tensorboard) (2.3.6)\n",
            "Requirement already satisfied: wheel>=0.26 in /usr/local/lib/python3.10/dist-packages (from tensorboard) (0.40.0)\n",
            "Requirement already satisfied: cachetools<6.0,>=2.0.0 in /usr/local/lib/python3.10/dist-packages (from google-auth<3,>=1.6.3->tensorboard) (5.3.1)\n",
            "Requirement already satisfied: pyasn1-modules>=0.2.1 in /usr/local/lib/python3.10/dist-packages (from google-auth<3,>=1.6.3->tensorboard) (0.3.0)\n",
            "Requirement already satisfied: rsa<5,>=3.1.4 in /usr/local/lib/python3.10/dist-packages (from google-auth<3,>=1.6.3->tensorboard) (4.9)\n",
            "Requirement already satisfied: requests-oauthlib>=0.7.0 in /usr/local/lib/python3.10/dist-packages (from google-auth-oauthlib<1.1,>=0.5->tensorboard) (1.3.1)\n",
            "Requirement already satisfied: ml-dtypes>=0.1.0 in /usr/local/lib/python3.10/dist-packages (from jax>=0.3.15->tensorflow) (0.2.0)\n",
            "Requirement already satisfied: scipy>=1.7 in /usr/local/lib/python3.10/dist-packages (from jax>=0.3.15->tensorflow) (1.10.1)\n",
            "Requirement already satisfied: urllib3<1.27,>=1.21.1 in /usr/local/lib/python3.10/dist-packages (from requests<3,>=2.21.0->tensorboard) (1.26.16)\n",
            "Requirement already satisfied: certifi>=2017.4.17 in /usr/local/lib/python3.10/dist-packages (from requests<3,>=2.21.0->tensorboard) (2023.5.7)\n",
            "Requirement already satisfied: charset-normalizer~=2.0.0 in /usr/local/lib/python3.10/dist-packages (from requests<3,>=2.21.0->tensorboard) (2.0.12)\n",
            "Requirement already satisfied: idna<4,>=2.5 in /usr/local/lib/python3.10/dist-packages (from requests<3,>=2.21.0->tensorboard) (3.4)\n",
            "Requirement already satisfied: MarkupSafe>=2.1.1 in /usr/local/lib/python3.10/dist-packages (from werkzeug>=1.0.1->tensorboard) (2.1.3)\n",
            "Requirement already satisfied: pyasn1<0.6.0,>=0.4.6 in /usr/local/lib/python3.10/dist-packages (from pyasn1-modules>=0.2.1->google-auth<3,>=1.6.3->tensorboard) (0.5.0)\n",
            "Requirement already satisfied: oauthlib>=3.0.0 in /usr/local/lib/python3.10/dist-packages (from requests-oauthlib>=0.7.0->google-auth-oauthlib<1.1,>=0.5->tensorboard) (3.2.2)\n"
          ]
        }
      ]
    },
    {
      "cell_type": "code",
      "source": [
        "import nltk\n",
        "import re\n",
        "from unidecode import unidecode\n",
        "from nltk.corpus import stopwords\n",
        "from nltk.stem import WordNetLemmatizer, PorterStemmer\n",
        "nltk.download('stopwords')\n",
        "nltk.download('punkt')\n",
        "nltk.download('wordnet')"
      ],
      "metadata": {
        "colab": {
          "base_uri": "https://localhost:8080/"
        },
        "id": "seKLbt-In-xa",
        "outputId": "70750e5a-ae12-488f-8079-fa2d60e58ecd"
      },
      "execution_count": null,
      "outputs": [
        {
          "output_type": "stream",
          "name": "stderr",
          "text": [
            "[nltk_data] Downloading package stopwords to /root/nltk_data...\n",
            "[nltk_data]   Unzipping corpora/stopwords.zip.\n",
            "[nltk_data] Downloading package punkt to /root/nltk_data...\n",
            "[nltk_data]   Unzipping tokenizers/punkt.zip.\n",
            "[nltk_data] Downloading package wordnet to /root/nltk_data...\n"
          ]
        },
        {
          "output_type": "execute_result",
          "data": {
            "text/plain": [
              "True"
            ]
          },
          "metadata": {},
          "execution_count": 9
        }
      ]
    },
    {
      "cell_type": "markdown",
      "source": [
        "se inicializan cada objetivo para utilizarlo en la funcion definida \"normalizacion\" y se utiliza los stopword para español"
      ],
      "metadata": {
        "id": "ZkPSkRZKWYMe"
      }
    },
    {
      "cell_type": "code",
      "source": [
        "stopwords_es = set(stopwords.words('spanish'))\n",
        "lemmatizer = WordNetLemmatizer()\n",
        "stemmer = PorterStemmer()"
      ],
      "metadata": {
        "id": "jEfrO4vMpdro"
      },
      "execution_count": null,
      "outputs": []
    },
    {
      "cell_type": "code",
      "source": [
        "from nltk.tokenize import texttiling\n",
        "def normalizacion(text):\n",
        "    texto_unicode = unidecode(text.lower())\n",
        "    text = re.sub(r'[,.¿?!¡()\"\\'\\'%]', '', texto_unicode)\n",
        "    palabras_tokenizadas = nltk.word_tokenize(text.lower())\n",
        "    palabras_sin_stopwords = [word for word in palabras_tokenizadas if word not in stopwords_es]\n",
        "    palabras_lematizadas = [lemmatizer.lemmatize(word) for word in palabras_sin_stopwords]\n",
        "    palabras_con_stemmed = [stemmer.stem(word) for word in palabras_lematizadas]\n",
        "    return \" \".join(palabras_lematizadas)"
      ],
      "metadata": {
        "id": "engYgxUep-WL"
      },
      "execution_count": null,
      "outputs": []
    },
    {
      "cell_type": "code",
      "source": [
        "primer_dato = data.iloc[0]['Texto']\n",
        "print(primer_dato)"
      ],
      "metadata": {
        "id": "Zl5zKcn9sGE2",
        "colab": {
          "base_uri": "https://localhost:8080/"
        },
        "outputId": "d249c0b1-379f-42ba-9de4-60c8df5067f2"
      },
      "execution_count": null,
      "outputs": [
        {
          "output_type": "stream",
          "name": "stdout",
          "text": [
            "La película comienza en el pasado, donde un joven llamado Sam intenta salvar a una celebridad de un cazador.\n"
          ]
        }
      ]
    },
    {
      "cell_type": "code",
      "source": [
        "print(normalizacion(primer_dato))"
      ],
      "metadata": {
        "colab": {
          "base_uri": "https://localhost:8080/"
        },
        "id": "sfzxTMD5KGhF",
        "outputId": "ccdeefd4-3aac-4a11-a906-818dc9c1bbfc"
      },
      "execution_count": null,
      "outputs": [
        {
          "output_type": "stream",
          "name": "stdout",
          "text": [
            "pelicula comienza pasado joven llamado sam intenta salvar celebridad cazador\n"
          ]
        }
      ]
    },
    {
      "cell_type": "code",
      "source": [
        "data['Texto_nuevo'] = data['Texto'].apply(normalizacion)\n",
        "print(data['Texto_nuevo'])"
      ],
      "metadata": {
        "colab": {
          "base_uri": "https://localhost:8080/"
        },
        "id": "TUcsgcJPKQ9w",
        "outputId": "a78b73aa-ad2d-4d42-8455-1f8823d59d2d"
      },
      "execution_count": null,
      "outputs": [
        {
          "output_type": "stream",
          "name": "stdout",
          "text": [
            "0        pelicula comienza pasado joven llamado sam int...\n",
            "1        emergiendo psique humana mostrando caracterist...\n",
            "2        despreciando insistencia madre siguiera vida m...\n",
            "3        amitabh puede creer junta directiva mente llen...\n",
            "4        excentricidades habla pequena roca gertrude si...\n",
            "                               ...                        \n",
            "19995    tampoco muchas cosas reirse aqui realmente voy...\n",
            "19996    consecuencias claras momento aparecio primera ...\n",
            "19997         clasicos comedia checa capaces encontrar fan\n",
            "19998            buen respiro beneficia alivio humoristico\n",
            "19999    comedia policiaca tan relajada sentirse bien d...\n",
            "Name: Texto_nuevo, Length: 20000, dtype: object\n"
          ]
        }
      ]
    },
    {
      "cell_type": "code",
      "source": [
        "data.info()"
      ],
      "metadata": {
        "colab": {
          "base_uri": "https://localhost:8080/"
        },
        "id": "D0iwpNJeDgGJ",
        "outputId": "55086362-8a8e-4059-b8ae-3456aa094173"
      },
      "execution_count": null,
      "outputs": [
        {
          "output_type": "stream",
          "name": "stdout",
          "text": [
            "<class 'pandas.core.frame.DataFrame'>\n",
            "RangeIndex: 20000 entries, 0 to 19999\n",
            "Data columns (total 5 columns):\n",
            " #   Column       Non-Null Count  Dtype \n",
            "---  ------       --------------  ----- \n",
            " 0   Id           20000 non-null  int64 \n",
            " 1   Texto        20000 non-null  object\n",
            " 2   label        20000 non-null  int64 \n",
            " 3   Categoría    20000 non-null  object\n",
            " 4   Texto_nuevo  20000 non-null  object\n",
            "dtypes: int64(2), object(3)\n",
            "memory usage: 781.4+ KB\n"
          ]
        }
      ]
    },
    {
      "cell_type": "markdown",
      "source": [
        "# Set de entrenamiento y de validacion\n",
        "Separacion del data set en datos de entrenamiento y datos de validacion, con un porcentaje de test del 10% y un random_state de 42"
      ],
      "metadata": {
        "id": "4ulVyG7pmu7p"
      }
    },
    {
      "cell_type": "code",
      "source": [
        "import numpy as np\n",
        "import tensorflow as tf\n",
        "from sklearn.model_selection import train_test_split"
      ],
      "metadata": {
        "id": "hA7VYzX2NWtI"
      },
      "execution_count": null,
      "outputs": []
    },
    {
      "cell_type": "code",
      "source": [
        "train, test = train_test_split(data, test_size=0.1)\n",
        "train, val = train_test_split(train, test_size=0.1)\n",
        "print(len(train), 'ejemplos entrenamiento')\n",
        "print(len(val), 'ejemplos validacion')\n",
        "print(len(test), 'ejemplos de testeo')"
      ],
      "metadata": {
        "colab": {
          "base_uri": "https://localhost:8080/"
        },
        "id": "eXIDccY5Gpo8",
        "outputId": "e008ce86-fcc2-4df2-8297-9041145a80f1"
      },
      "execution_count": null,
      "outputs": [
        {
          "output_type": "stream",
          "name": "stdout",
          "text": [
            "16200 ejemplos entrenamiento\n",
            "1800 ejemplos validacion\n",
            "2000 ejemplos de testeo\n"
          ]
        }
      ]
    },
    {
      "cell_type": "code",
      "source": [
        "BUFFER_SIZE = 10000\n",
        "BATCH_SIZE = 32\n",
        "# Crear conjuntos de datos con tf.data.Dataset\n",
        "train_dataset = tf.data.Dataset.from_tensor_slices((train['Texto_nuevo'], train['label']))\n",
        "test_dataset = tf.data.Dataset.from_tensor_slices((test['Texto_nuevo'], test['label']))\n",
        "\n",
        "# Aplicar transformaciones a los conjuntos de datos\n",
        "train_dataset = train_dataset.shuffle(BUFFER_SIZE).batch(BATCH_SIZE).prefetch(tf.data.AUTOTUNE)\n",
        "test_dataset = test_dataset.batch(BATCH_SIZE).prefetch(tf.data.AUTOTUNE)"
      ],
      "metadata": {
        "id": "TyVAReCtHf35"
      },
      "execution_count": null,
      "outputs": []
    },
    {
      "cell_type": "code",
      "source": [
        "for example, label in train_dataset.take(1):\n",
        "  print('texts: ', example.numpy()[:3])\n",
        "  print()\n",
        "  print('labels: ', label.numpy()[:3])"
      ],
      "metadata": {
        "colab": {
          "base_uri": "https://localhost:8080/"
        },
        "id": "ssBLwrX8H761",
        "outputId": "4514ad4a-703e-4454-de40-2a062a501669"
      },
      "execution_count": null,
      "outputs": [
        {
          "output_type": "stream",
          "name": "stdout",
          "text": [
            "texts:  [b'frigo jugando golf accidentalmente cae inconsciente'\n",
            " b'nuevo insomnio nueva version sorprendentemente fiel frio predecesor elige tomar propia direccion emplea cambios quedan bien lugar impusieron bien sensibilidades comerciales'\n",
            " b'legendario puente cerca arnhem paises bajos permanecio manos alemanas tiempo']\n",
            "\n",
            "labels:  [1 0 1]\n"
          ]
        }
      ]
    },
    {
      "cell_type": "code",
      "source": [
        "VOCAB_SIZE = 30000\n",
        "encoder = tf.keras.layers.TextVectorization(\n",
        "    max_tokens=VOCAB_SIZE)\n",
        "encoder.adapt(train_dataset.map(lambda texto, label: texto))"
      ],
      "metadata": {
        "id": "oeiIngj0ICI2"
      },
      "execution_count": null,
      "outputs": []
    },
    {
      "cell_type": "code",
      "source": [
        "vocab = np.array(encoder.get_vocabulary())\n",
        "vocab[:20]"
      ],
      "metadata": {
        "colab": {
          "base_uri": "https://localhost:8080/"
        },
        "id": "EVEeZi3UErB5",
        "outputId": "6b144994-367d-420c-a078-e7f5346a0acf"
      },
      "execution_count": null,
      "outputs": [
        {
          "output_type": "execute_result",
          "data": {
            "text/plain": [
              "array(['', '[UNK]', 'pelicula', 'ma', 'si', 'historia', 'vida', 'solo',\n",
              "       'ano', 'ser', 'tan', 'puede', 'tambien', 'do', 'despues', 'vez',\n",
              "       'tiempo', 'mundo', 'gran', 'hombre'], dtype='<U89')"
            ]
          },
          "metadata": {},
          "execution_count": 21
        }
      ]
    },
    {
      "cell_type": "code",
      "source": [
        "encoded_example = encoder(example)[:3].numpy()\n",
        "encoded_example"
      ],
      "metadata": {
        "colab": {
          "base_uri": "https://localhost:8080/"
        },
        "id": "C3UCNHkBJwKB",
        "outputId": "8aadd081-f27d-4fb3-a8d9-071d7564a513"
      },
      "execution_count": null,
      "outputs": [
        {
          "output_type": "execute_result",
          "data": {
            "text/plain": [
              "array([[ 7436,  2928,  4010,  1096,  1000,  9281,     0,     0,     0,\n",
              "            0,     0,     0,     0,     0,     0,     0,     0,     0,\n",
              "            0,     0,     0,     0,     0,     0,     0,     0,     0],\n",
              "       [   55,  3566,    59,   179,   754,  1384,  1696,  5824,  3287,\n",
              "          617,   191,   305,  7570,  1344,  1569,    22,    35, 23201,\n",
              "           22,  6827,  2781,     0,     0,     0,     0,     0,     0],\n",
              "       [ 1314,  3486,   483, 29464,  2143,  3703,  8740,   509,  5530,\n",
              "           16,     0,     0,     0,     0,     0,     0,     0,     0,\n",
              "            0,     0,     0,     0,     0,     0,     0,     0,     0]])"
            ]
          },
          "metadata": {},
          "execution_count": 22
        }
      ]
    },
    {
      "cell_type": "code",
      "source": [
        "model = tf.keras.Sequential([\n",
        "    encoder,\n",
        "    tf.keras.layers.Embedding(len(encoder.get_vocabulary()), 64, mask_zero=True),\n",
        "    tf.keras.layers.Bidirectional(tf.keras.layers.LSTM(64,  return_sequences=True)),\n",
        "    tf.keras.layers.Bidirectional(tf.keras.layers.LSTM(32)),\n",
        "    tf.keras.layers.Dense(64, activation='relu'),\n",
        "    tf.keras.layers.Dropout(0.5),\n",
        "    tf.keras.layers.Dense(1, activation='sigmoid')\n",
        "])"
      ],
      "metadata": {
        "id": "ETUVSyLeJ5Lp"
      },
      "execution_count": null,
      "outputs": []
    },
    {
      "cell_type": "code",
      "source": [
        "model.compile(loss=tf.keras.losses.BinaryCrossentropy(from_logits=False),\n",
        "              optimizer=tf.keras.optimizers.Adam(1e-5),\n",
        "              metrics=['accuracy'])"
      ],
      "metadata": {
        "id": "TUDAzGPdKJwo"
      },
      "execution_count": null,
      "outputs": []
    },
    {
      "cell_type": "code",
      "source": [
        "history = model.fit(train_dataset, epochs=10,\n",
        "          validation_data=test_dataset,\n",
        "          validation_steps=30)"
      ],
      "metadata": {
        "colab": {
          "base_uri": "https://localhost:8080/"
        },
        "id": "uTiALrPBKXCE",
        "outputId": "e84154be-f9a5-4d3b-f108-28013e2ecd6d"
      },
      "execution_count": null,
      "outputs": [
        {
          "output_type": "stream",
          "name": "stdout",
          "text": [
            "Epoch 1/10\n",
            "507/507 [==============================] - 58s 79ms/step - loss: 0.6927 - accuracy: 0.5375 - val_loss: 0.6923 - val_accuracy: 0.5792\n",
            "Epoch 2/10\n",
            "507/507 [==============================] - 19s 37ms/step - loss: 0.6912 - accuracy: 0.5907 - val_loss: 0.6901 - val_accuracy: 0.6198\n",
            "Epoch 3/10\n",
            "507/507 [==============================] - 15s 30ms/step - loss: 0.6859 - accuracy: 0.6485 - val_loss: 0.6811 - val_accuracy: 0.7125\n",
            "Epoch 4/10\n",
            "507/507 [==============================] - 14s 28ms/step - loss: 0.6612 - accuracy: 0.7430 - val_loss: 0.6371 - val_accuracy: 0.7510\n",
            "Epoch 5/10\n",
            "507/507 [==============================] - 14s 28ms/step - loss: 0.5624 - accuracy: 0.8093 - val_loss: 0.5224 - val_accuracy: 0.8062\n",
            "Epoch 6/10\n",
            "507/507 [==============================] - 14s 28ms/step - loss: 0.4496 - accuracy: 0.8450 - val_loss: 0.4700 - val_accuracy: 0.8198\n",
            "Epoch 7/10\n",
            "507/507 [==============================] - 14s 27ms/step - loss: 0.3935 - accuracy: 0.8635 - val_loss: 0.4586 - val_accuracy: 0.8229\n",
            "Epoch 8/10\n",
            "507/507 [==============================] - 14s 27ms/step - loss: 0.3591 - accuracy: 0.8778 - val_loss: 0.4540 - val_accuracy: 0.8271\n",
            "Epoch 9/10\n",
            "507/507 [==============================] - 14s 27ms/step - loss: 0.3348 - accuracy: 0.8876 - val_loss: 0.4522 - val_accuracy: 0.8260\n",
            "Epoch 10/10\n",
            "507/507 [==============================] - 13s 26ms/step - loss: 0.3111 - accuracy: 0.8980 - val_loss: 0.4497 - val_accuracy: 0.8313\n"
          ]
        }
      ]
    },
    {
      "cell_type": "code",
      "source": [
        "test_loss, test_acc = model.evaluate(test_dataset)\n",
        "\n",
        "print('Test Loss:', test_loss)\n",
        "print('Test Accuracy:', test_acc)"
      ],
      "metadata": {
        "colab": {
          "base_uri": "https://localhost:8080/"
        },
        "id": "0j294iV3LE6D",
        "outputId": "d43871e8-b9b4-4ad0-ca7d-cee649a44b33"
      },
      "execution_count": null,
      "outputs": [
        {
          "output_type": "stream",
          "name": "stdout",
          "text": [
            "63/63 [==============================] - 1s 8ms/step - loss: 0.4457 - accuracy: 0.8230\n",
            "Test Loss: 0.4457293152809143\n",
            "Test Accuracy: 0.8230000138282776\n"
          ]
        }
      ]
    },
    {
      "cell_type": "code",
      "source": [
        "sample_text = ('La última película de ese director fue un desastre, no se la recomendaría a nadie')\n",
        "predictions = model.predict(np.array([sample_text]))\n",
        "print(predictions)"
      ],
      "metadata": {
        "colab": {
          "base_uri": "https://localhost:8080/"
        },
        "id": "cYjoPbUSbMoi",
        "outputId": "0ebda25f-8f98-407e-f7ed-825884f0f8c9"
      },
      "execution_count": null,
      "outputs": [
        {
          "output_type": "stream",
          "name": "stdout",
          "text": [
            "1/1 [==============================] - 5s 5s/step\n",
            "[[0.11905617]]\n"
          ]
        }
      ]
    },
    {
      "cell_type": "code",
      "source": [
        "import matplotlib.pyplot as plt\n",
        "\n",
        "def plot_graphs(history, metric):\n",
        "  plt.plot(history.history[metric])\n",
        "  plt.plot(history.history['val_'+metric], '')\n",
        "  plt.xlabel(\"Epochs\")\n",
        "  plt.ylabel(metric)\n",
        "  plt.legend([metric, 'val_'+metric])"
      ],
      "metadata": {
        "id": "llVsxHQ-i1gr"
      },
      "execution_count": null,
      "outputs": []
    },
    {
      "cell_type": "code",
      "source": [
        "plt.figure(figsize=(16, 6))\n",
        "plt.subplot(1, 2, 1)\n",
        "plot_graphs(history, 'accuracy')\n",
        "plt.subplot(1, 2, 2)\n",
        "plot_graphs(history, 'loss')"
      ],
      "metadata": {
        "colab": {
          "base_uri": "https://localhost:8080/",
          "height": 542
        },
        "id": "7xEjtstajBBE",
        "outputId": "4069ae70-d585-48b4-fb8c-5235ce4c19d3"
      },
      "execution_count": null,
      "outputs": [
        {
          "output_type": "display_data",
          "data": {
            "text/plain": [
              "<Figure size 1600x600 with 2 Axes>"
            ],
            "image/png": "[encoded data removed]"
          },
          "metadata": {}
        }
      ]
    },
    {
      "cell_type": "code",
      "source": [
        "data_noticias = pd.read_csv('datos_noticias.csv',header=0,sep='|')"
      ],
      "metadata": {
        "id": "X8DpUzoaRbDu"
      },
      "execution_count": null,
      "outputs": []
    },
    {
      "cell_type": "code",
      "source": [
        "data_noticias.info()"
      ],
      "metadata": {
        "colab": {
          "base_uri": "https://localhost:8080/"
        },
        "id": "viDanwOWRwpY",
        "outputId": "103c09be-992e-4181-accd-8aac7aa2c6a2"
      },
      "execution_count": null,
      "outputs": [
        {
          "output_type": "stream",
          "name": "stdout",
          "text": [
            "<class 'pandas.core.frame.DataFrame'>\n",
            "RangeIndex: 60166 entries, 0 to 60165\n",
            "Data columns (total 10 columns):\n",
            " #   Column                 Non-Null Count  Dtype  \n",
            "---  ------                 --------------  -----  \n",
            " 0   Unnamed: 0             60166 non-null  object \n",
            " 1   Titulo                 60166 non-null  object \n",
            " 2   Contexto               58732 non-null  object \n",
            " 3   Fecha                  60154 non-null  object \n",
            " 4   Categoria              59595 non-null  object \n",
            " 5   Contenido              60166 non-null  object \n",
            " 6   Sitio web              60166 non-null  object \n",
            " 7   Sentimiento titulo     60166 non-null  float64\n",
            " 8   Sentimiento contexto   60166 non-null  float64\n",
            " 9   Sentimiento contenido  60166 non-null  float64\n",
            "dtypes: float64(3), object(7)\n",
            "memory usage: 4.6+ MB\n"
          ]
        }
      ]
    },
    {
      "cell_type": "code",
      "source": [
        "data_noticias = data_noticias.dropna(subset=['Contexto'])"
      ],
      "metadata": {
        "id": "Jn9DCBT8SIls"
      },
      "execution_count": null,
      "outputs": []
    },
    {
      "cell_type": "code",
      "source": [
        "data_noticias.info()"
      ],
      "metadata": {
        "colab": {
          "base_uri": "https://localhost:8080/"
        },
        "id": "09y_EkKDwcGS",
        "outputId": "2092d188-2eec-4697-84f4-4bab8fbd8635"
      },
      "execution_count": null,
      "outputs": [
        {
          "output_type": "stream",
          "name": "stdout",
          "text": [
            "<class 'pandas.core.frame.DataFrame'>\n",
            "Int64Index: 58732 entries, 0 to 60165\n",
            "Data columns (total 10 columns):\n",
            " #   Column                 Non-Null Count  Dtype  \n",
            "---  ------                 --------------  -----  \n",
            " 0   Unnamed: 0             58732 non-null  object \n",
            " 1   Titulo                 58732 non-null  object \n",
            " 2   Contexto               58732 non-null  object \n",
            " 3   Fecha                  58720 non-null  object \n",
            " 4   Categoria              58161 non-null  object \n",
            " 5   Contenido              58732 non-null  object \n",
            " 6   Sitio web              58732 non-null  object \n",
            " 7   Sentimiento titulo     58732 non-null  float64\n",
            " 8   Sentimiento contexto   58732 non-null  float64\n",
            " 9   Sentimiento contenido  58732 non-null  float64\n",
            "dtypes: float64(3), object(7)\n",
            "memory usage: 4.9+ MB\n"
          ]
        }
      ]
    },
    {
      "cell_type": "code",
      "source": [
        "texto_normalizado_titulo = np.array(data_noticias['Titulo'].apply(normalizacion))"
      ],
      "metadata": {
        "id": "bvUtmSjfSdtA"
      },
      "execution_count": null,
      "outputs": []
    },
    {
      "cell_type": "code",
      "source": [
        "texto_normalizado_contexto = np.array(data_noticias['Contexto'].astype(str).apply(normalizacion))\n",
        "texto_normalizado_contenido = np.array(data_noticias['Contenido'].astype(str).apply(normalizacion))"
      ],
      "metadata": {
        "id": "8BgKlVLzWtDq"
      },
      "execution_count": null,
      "outputs": []
    },
    {
      "cell_type": "code",
      "source": [
        "predicciones_titulo = model.predict(texto_normalizado_titulo)"
      ],
      "metadata": {
        "colab": {
          "base_uri": "https://localhost:8080/"
        },
        "id": "JEQLnkO6S7aL",
        "outputId": "08daa9be-7e64-451d-cb7f-7b6443bc73f7"
      },
      "execution_count": null,
      "outputs": [
        {
          "output_type": "stream",
          "name": "stdout",
          "text": [
            "1836/1836 [==============================] - 13s 7ms/step\n"
          ]
        }
      ]
    },
    {
      "cell_type": "code",
      "source": [
        "predicciones_contexto = model.predict(texto_normalizado_contexto)"
      ],
      "metadata": {
        "colab": {
          "base_uri": "https://localhost:8080/"
        },
        "id": "kMpnqXfmZMHE",
        "outputId": "037eea3e-ae80-4d81-dcf6-2b3f28194e0f"
      },
      "execution_count": null,
      "outputs": [
        {
          "output_type": "stream",
          "name": "stdout",
          "text": [
            "1836/1836 [==============================] - 15s 8ms/step\n"
          ]
        }
      ]
    },
    {
      "cell_type": "code",
      "source": [
        "predicciones_contenido = model.predict(texto_normalizado_contenido)"
      ],
      "metadata": {
        "colab": {
          "base_uri": "https://localhost:8080/"
        },
        "id": "GwQGCD7Gapzf",
        "outputId": "5ea9b3db-2230-48eb-d4fb-80e6e831bfdf"
      },
      "execution_count": null,
      "outputs": [
        {
          "output_type": "stream",
          "name": "stdout",
          "text": [
            "1836/1836 [==============================] - 53s 29ms/step\n"
          ]
        }
      ]
    },
    {
      "cell_type": "code",
      "source": [
        "data_noticias['Subjetividad titulo'] = predicciones_titulo\n",
        "data_noticias['Subjetividad contexto'] = predicciones_contexto\n",
        "data_noticias['Subjetividad contenido'] = predicciones_contenido"
      ],
      "metadata": {
        "id": "xM_JAdVhbOna"
      },
      "execution_count": null,
      "outputs": []
    },
    {
      "cell_type": "code",
      "source": [
        "data_noticias = data_noticias.drop(columns=['Unnamed: 0'])"
      ],
      "metadata": {
        "id": "m1wYXdS2cg5Q"
      },
      "execution_count": null,
      "outputs": []
    },
    {
      "cell_type": "code",
      "source": [
        "data_noticias.info()"
      ],
      "metadata": {
        "colab": {
          "base_uri": "https://localhost:8080/"
        },
        "id": "IaZJL-Lh3A-C",
        "outputId": "5139e522-6cd1-4182-b3a6-8df9d823e4c5"
      },
      "execution_count": null,
      "outputs": [
        {
          "output_type": "stream",
          "name": "stdout",
          "text": [
            "<class 'pandas.core.frame.DataFrame'>\n",
            "Int64Index: 58732 entries, 0 to 60165\n",
            "Data columns (total 12 columns):\n",
            " #   Column                  Non-Null Count  Dtype  \n",
            "---  ------                  --------------  -----  \n",
            " 0   Titulo                  58732 non-null  object \n",
            " 1   Contexto                58732 non-null  object \n",
            " 2   Fecha                   58720 non-null  object \n",
            " 3   Categoria               58161 non-null  object \n",
            " 4   Contenido               58732 non-null  object \n",
            " 5   Sitio web               58732 non-null  object \n",
            " 6   Sentimiento titulo      58732 non-null  float64\n",
            " 7   Sentimiento contexto    58732 non-null  float64\n",
            " 8   Sentimiento contenido   58732 non-null  float64\n",
            " 9   Subjetividad titulo     58732 non-null  float32\n",
            " 10  Subjetividad contexto   58732 non-null  float32\n",
            " 11  Subjetividad contenido  58732 non-null  float32\n",
            "dtypes: float32(3), float64(3), object(6)\n",
            "memory usage: 5.2+ MB\n"
          ]
        }
      ]
    },
    {
      "cell_type": "code",
      "source": [
        "data_noticias.to_csv('Analisis_noticias.csv', sep='|', index=False)"
      ],
      "metadata": {
        "id": "p-GWWJFPbgy3"
      },
      "execution_count": null,
      "outputs": []
    },
    {
      "cell_type": "code",
      "source": [
        "data_noticias.info()"
      ],
      "metadata": {
        "id": "wMlo6B7Mb5rM"
      },
      "execution_count": null,
      "outputs": []
    }
  ]
}