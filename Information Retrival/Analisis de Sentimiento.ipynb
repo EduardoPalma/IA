{
 "nbformat": 4,
 "nbformat_minor": 0,
 "metadata": {
  "colab": {
   "provenance": [],
   "gpuType": "T4"
  },
  "kernelspec": {
   "name": "python3",
   "display_name": "Python 3"
  },
  "language_info": {
   "name": "python"
  },
  "accelerator": "GPU"
 },
 "cells": [
  {
   "cell_type": "markdown",
   "source": [
    "## Proyecto para clasificar la subjetividad de un texto\n",
    "\n",
    "Se extraen textos con la categoria correspondientes de objetividad y subjetividad, **objetivo 1 subjetivo 0**\n",
    ", donde en total son 20000 datos de estos, traduccidos de 2 fuentes distintas, que son referenciados de las siguientes fuentes.\n",
    "\n",
    "\n",
    "1.   \"https://paperswithcode-com.translate.goog/dataset/czech-subjectivity-dataset?_x_tr_sl=en&_x_tr_tl=es&_x_tr_hl=es-419\"\n",
    "2.   \"https://www.cs.cornell.edu/people/pabo/movie-review-data/\"\n",
    "\n",
    "\n",
    "se utilizo traductor para trasladarlo al lenguaje español. trambien agregar que se utilizo software de terceros para la traduccion, especificamente de la siguiente pagina.\n",
    "\n",
    "\n",
    "\n",
    "*   https://www.onlinedoctranslator.com/es/translationform\n",
    "\n",
    "Agradecimientos a los creados de estas fuentes y software que facilitaron el proceso obtencion y transformacion."
   ],
   "metadata": {
    "id": "C7kEl6V-9TJJ"
   }
  },
  {
   "cell_type": "code",
   "execution_count": null,
   "metadata": {
    "id": "fR1xqjvPlhJz"
   },
   "outputs": [],
   "source": [
    "import pandas as pd"
   ]
  },
  {
   "cell_type": "code",
   "source": [
    "data = pd.read_csv('datos.csv',header=0)\n",
    "print(data.head())"
   ],
   "metadata": {
    "colab": {
     "base_uri": "https://localhost:8080/"
    },
    "id": "meMkjTpOnF11",
    "outputId": "5b83c85d-e4bc-4695-ad7b-dbbcdd585089"
   },
   "execution_count": null,
   "outputs": [
    {
     "output_type": "stream",
     "name": "stdout",
     "text": [
      "   Id                                              Texto  label Categoría\n",
      "0   0  La película comienza en el pasado, donde un jo...      1  objetivo\n",
      "1   1  emergiendo de la psique humana y mostrando car...      1  objetivo\n",
      "2   2  despreciando la insistencia de su madre de que...      1  objetivo\n",
      "3   3  amitabh no puede creer la junta directiva y su...      1  objetivo\n",
      "4   4  ella, entre otras excentricidades, habla con u...      1  objetivo\n"
     ]
    }
   ]
  },
  {
   "cell_type": "code",
   "source": [
    "import nltk"
   ],
   "metadata": {
    "colab": {
     "base_uri": "https://localhost:8080/"
    },
    "id": "seKLbt-In-xa",
    "outputId": "a29d0553-694f-4eab-d605-45d8e547b73d"
   },
   "execution_count": null,
   "outputs": [
    {
     "output_type": "stream",
     "name": "stderr",
     "text": [
      "[nltk_data] Downloading package stopwords to /root/nltk_data...\n",
      "[nltk_data]   Unzipping corpora/stopwords.zip.\n",
      "[nltk_data] Downloading package punkt to /root/nltk_data...\n",
      "[nltk_data]   Unzipping tokenizers/punkt.zip.\n",
      "[nltk_data] Downloading package wordnet to /root/nltk_data...\n"
     ]
    },
    {
     "output_type": "execute_result",
     "data": {
      "text/plain": [
       "True"
      ]
     },
     "metadata": {},
     "execution_count": 4
    }
   ]
  },
  {
   "cell_type": "code",
   "source": [
    "primer_dato = data.iloc[0]['Texto']\n",
    "print(primer_dato)"
   ],
   "metadata": {
    "id": "Zl5zKcn9sGE2",
    "colab": {
     "base_uri": "https://localhost:8080/"
    },
    "outputId": "90ffce81-a6ae-4427-bba2-07b827e824a5"
   },
   "execution_count": null,
   "outputs": [
    {
     "output_type": "stream",
     "name": "stdout",
     "text": [
      "La película comienza en el pasado, donde un joven llamado Sam intenta salvar a una celebridad de un cazador.\n"
     ]
    }
   ]
  },
  {
   "cell_type": "code",
   "source": [
    "data['Texto_nuevo'] = data['Texto'].apply(normalizacion)\n",
    "print(data['Texto_nuevo'])"
   ],
   "metadata": {
    "colab": {
     "base_uri": "https://localhost:8080/"
    },
    "id": "TUcsgcJPKQ9w",
    "outputId": "0a1ed2be-dfbe-4be7-b8df-27309ab652b4"
   },
   "execution_count": null,
   "outputs": [
    {
     "output_type": "stream",
     "name": "stdout",
     "text": [
      "0        pelicula comienza pasado joven llamado sam int...\n",
      "1        emergiendo psique humana mostrando caracterist...\n",
      "2        despreciando insistencia madre siguiera vida m...\n",
      "3        amitabh puede creer junta directiva mente llen...\n",
      "4        excentricidades habla pequena roca gertrude si...\n",
      "                               ...                        \n",
      "19995    tampoco muchas cosas reirse aqui realmente voy...\n",
      "19996    consecuencias claras momento aparecio primera ...\n",
      "19997         clasicos comedia checa capaces encontrar fan\n",
      "19998            buen respiro beneficia alivio humoristico\n",
      "19999    comedia policiaca tan relajada sentirse bien d...\n",
      "Name: Texto_nuevo, Length: 20000, dtype: object\n"
     ]
    }
   ]
  },
  {
   "cell_type": "code",
   "source": [
    "from nltk.sentiment.vader import SentimentIntensityAnalyzer\n",
    "nltk.download('vader_lexicon')\n",
    "sentiment = SentimentIntensityAnalyzer()"
   ],
   "metadata": {
    "colab": {
     "base_uri": "https://localhost:8080/"
    },
    "id": "GSqaAfxm8G-E",
    "outputId": "b90005c9-6d22-4208-ca70-57a33010b442"
   },
   "execution_count": null,
   "outputs": [
    {
     "output_type": "stream",
     "name": "stderr",
     "text": [
      "[nltk_data] Downloading package vader_lexicon to /root/nltk_data...\n"
     ]
    }
   ]
  },
  {
   "cell_type": "code",
   "source": [
    "data_noticias = pd.read_csv('datos_noticias.csv',header=0,sep='|')"
   ],
   "metadata": {
    "id": "F2s9t_IWjNs9"
   },
   "execution_count": null,
   "outputs": []
  },
  {
   "cell_type": "markdown",
   "source": [
    "Evaluar el sentimiento de cada noticia"
   ],
   "metadata": {
    "collapsed": false
   }
  },
  {
   "cell_type": "code",
   "source": [
    "data_noticias['Sentimiento titulo'] = data_noticias['Titulo'].apply(lambda x : sentiment.polarity_scores(x)['compound'])\n",
    "data_noticias['Sentimiento contexto'] = data_noticias['Contexto'].apply(lambda x : sentiment.polarity_scores(x)['compound'])\n",
    "data_noticias['Sentimiento contenido'] = data_noticias['Contenido'].apply(lambda x : sentiment.polarity_scores(x)['compound'])"
   ],
   "metadata": {
    "id": "9eodAxip-Vgh"
   },
   "execution_count": null,
   "outputs": []
  },
  {
   "cell_type": "code",
   "source": [
    "primer_valor = data_noticias['Contenido'].iloc[300]\n",
    "print(primer_valor)"
   ],
   "metadata": {
    "colab": {
     "base_uri": "https://localhost:8080/"
    },
    "id": "5NzeRCJrkARv",
    "outputId": "c7c1af5d-c3b8-436f-fd6c-f57b80fab015"
   },
   "execution_count": null,
   "outputs": [
    {
     "output_type": "stream",
     "name": "stdout",
     "text": [
      "A un monto máximo de $750 mil en alhajas subieron los créditos que se podrán obtener durante diciembre en la Dirección de Crédito Prendario (Dicrep), conocida popularmente como La Tía Rica. Así lo confirmó este lunes el director de la Dicrep, Andoni Elorrieta en conversación con Ciudadano ADN, quien agregó que el aumento se da atendiendo a las necesidades extra que tienen las personas durante este mes. “Durante el mes de diciembre hay muchos gastos no solamente en celebraciones, para nuestros usuarios que en su mayoría son mujeres, emprendedores, adultos mayores, diciembre es un mes muy importante así que hemos aumentado el monto máximo del crédito del rubro alhajas por todo el mes de diciembre hasta el 30 de diciembre“, dijo el director de La Tía Rica. Elorrieta además explicó que pese a todas las dificultades económicas, la tasa de interés para recuperar los elementos empeñados se mantiene en 2,5% mensual. “La vamos a mantener de aquí en adelante“, aseguró. La Tía Rica es la solución para miles de personas que no pueden acceder a créditos en la banca, los que han aumentado en grandes números durante 2022. ¡Pongámosle empeño al fin de año! Durante diciembre el monto máximo de los créditos de la Tía Rica entregados por el empeño de joyas y alhajas sube de 500 mil a 750 mil pesos. ¡No dejes pasar esta oportunidad de acceder a un préstamo rápido, simple y seguro! pic.twitter.com/J627UMoP0g â DICREP (@LaTiaRica) December 12, 2022  “Durante noviembre hemos cursado 321 mil créditos, lo que significa un 82% mas que el año anterior y en un momento hemos andado alrededor de los $28 mil millones, que significa un 105% más que el año pasado, un poquito más que el doble. Nuestros usuarios y usuarias han tenido más necesidades este 2022″, dijo el director de la Dicrep. Pese a las facilidades que se dan para el pago y a que solo el 3% de los bienes empeñados se van finalmente a remate, el director de La Tía Rica puntualizó que el llamado es a no sobreendeudarse.\n"
     ]
    }
   ]
  },
  {
   "cell_type": "code",
   "source": [
    "data_noticias = pd.read_csv('Analisis_noticias.csv',header=0,sep='|')"
   ],
   "metadata": {
    "id": "5yJORsrDmQob"
   },
   "execution_count": null,
   "outputs": []
  },
  {
   "cell_type": "code",
   "source": [
    "data_noticias.info()"
   ],
   "metadata": {
    "colab": {
     "base_uri": "https://localhost:8080/"
    },
    "id": "Rj9YEXgFosZu",
    "outputId": "4f14a30a-fb98-43e6-86de-79a347f2b665"
   },
   "execution_count": null,
   "outputs": [
    {
     "output_type": "stream",
     "name": "stdout",
     "text": [
      "<class 'pandas.core.frame.DataFrame'>\n",
      "RangeIndex: 44506 entries, 0 to 44505\n",
      "Data columns (total 12 columns):\n",
      " #   Column                  Non-Null Count  Dtype  \n",
      "---  ------                  --------------  -----  \n",
      " 0   Titulo                  44506 non-null  object \n",
      " 1   Contexto                44503 non-null  object \n",
      " 2   Fecha                   44506 non-null  object \n",
      " 3   Categoria               44506 non-null  object \n",
      " 4   Contenido               44506 non-null  object \n",
      " 5   Sitio web               44506 non-null  object \n",
      " 6   Sentimiento titulo      44506 non-null  float64\n",
      " 7   Sentimiento contexto    44506 non-null  float64\n",
      " 8   Sentimiento contenido   44506 non-null  float64\n",
      " 9   Subjetividad titulo     44506 non-null  float64\n",
      " 10  Subjetividad contexto   44506 non-null  float64\n",
      " 11  Subjetividad contenido  44506 non-null  float64\n",
      "dtypes: float64(6), object(6)\n",
      "memory usage: 4.1+ MB\n"
     ]
    }
   ]
  }
 ]
}
